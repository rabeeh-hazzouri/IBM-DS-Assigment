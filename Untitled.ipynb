{
 "cells": [
  {
   "cell_type": "code",
   "execution_count": null,
   "id": "97728ab6",
   "metadata": {},
   "outputs": [],
   "source": []
  },
  {
   "cell_type": "markdown",
   "id": "ad34bf38",
   "metadata": {},
   "source": [
    "Data Science Tools and Ecosystem"
   ]
  },
  {
   "cell_type": "markdown",
   "id": "2371cd54",
   "metadata": {},
   "source": [
    "Welcome to my Data Science Notebook! In this notebook, I will explore various data science topics and techniques. This notebook will serve as a record of my learning journey and a reference for future work.\n"
   ]
  },
  {
   "cell_type": "markdown",
   "id": "86e101ca",
   "metadata": {},
   "source": [
    "Some of the popular languages that Data Scientists use are:\n",
    "- Python\n",
    "- R\n",
    "- SQL\n",
    "- Java\n",
    "- MATLAB\n"
   ]
  },
  {
   "cell_type": "markdown",
   "id": "c0ce77a2",
   "metadata": {},
   "source": [
    "Some of the commonly used libraries used by Data Scientists include:\n",
    "- NumPy\n",
    "- Pandas\n",
    "- Matplotlib\n",
    "- Seaborn\n",
    "- Scikit-learn\n"
   ]
  },
  {
   "cell_type": "markdown",
   "id": "891b5d7e",
   "metadata": {},
   "source": [
    "Data Science Tools:\n",
    "\n",
    "| Tool        | Description                                        |\n",
    "|-------------|----------------------------------------------------|\n",
    "| Jupyter     | Interactive computing environment                   |\n",
    "| Anaconda    | Distribution of Python and R for data science       |\n",
    "| TensorFlow  | Open-source software library for data and ML        |\n",
    "| Keras       | Neural network library for Python                    |\n",
    "| Apache Spark| Open-source distributed computing system             |\n"
   ]
  },
  {
   "cell_type": "markdown",
   "id": "c785efca",
   "metadata": {},
   "source": [
    "Below are a few examples of evaluating arithmetic expressions in Python"
   ]
  },
  {
   "cell_type": "code",
   "execution_count": 6,
   "id": "3a4c9385",
   "metadata": {},
   "outputs": [
    {
     "name": "stdout",
     "output_type": "stream",
     "text": [
      "The result of (3*4)+5 is: 17\n"
     ]
    }
   ],
   "source": [
    "# This is a simple arithmetic expression to multiply then add integers\n",
    "result = (3 * 4) + 5\n",
    "print(\"The result of (3*4)+5 is:\", result)\n"
   ]
  },
  {
   "cell_type": "code",
   "execution_count": 4,
   "id": "ccdc89e6",
   "metadata": {},
   "outputs": [
    {
     "name": "stdout",
     "output_type": "stream",
     "text": [
      "2.0\n"
     ]
    }
   ],
   "source": [
    "# This will convert 200 minutes to hours by diving by 60:\n",
    "minutes = 120\n",
    "hours = minutes / 60\n",
    "print(hours)\n"
   ]
  },
  {
   "cell_type": "markdown",
   "id": "c3656aae",
   "metadata": {},
   "source": [
    "# Objectives:\n",
    "- Learn markdown syntax\n",
    "- Familiarize with Jupyter notebooks\n",
    "- Practice basic Python programming concepts\n",
    "- Explore data science languages, libraries, and tools\n"
   ]
  },
  {
   "cell_type": "markdown",
   "id": "40678ee9",
   "metadata": {},
   "source": [
    "## Author\n",
    "Rabih H\n"
   ]
  },
  {
   "cell_type": "code",
   "execution_count": null,
   "id": "54a14de6",
   "metadata": {},
   "outputs": [],
   "source": []
  },
  {
   "cell_type": "code",
   "execution_count": null,
   "id": "335d5d74",
   "metadata": {},
   "outputs": [],
   "source": []
  },
  {
   "cell_type": "code",
   "execution_count": null,
   "id": "9dda3d0b",
   "metadata": {},
   "outputs": [],
   "source": []
  },
  {
   "cell_type": "code",
   "execution_count": null,
   "id": "af1cf25d",
   "metadata": {},
   "outputs": [],
   "source": []
  },
  {
   "cell_type": "code",
   "execution_count": null,
   "id": "fcc10c3c",
   "metadata": {},
   "outputs": [],
   "source": []
  },
  {
   "cell_type": "code",
   "execution_count": null,
   "id": "06275a1f",
   "metadata": {},
   "outputs": [],
   "source": []
  },
  {
   "cell_type": "code",
   "execution_count": null,
   "id": "073ec383",
   "metadata": {},
   "outputs": [],
   "source": []
  },
  {
   "cell_type": "code",
   "execution_count": null,
   "id": "f9daef93",
   "metadata": {},
   "outputs": [],
   "source": []
  },
  {
   "cell_type": "code",
   "execution_count": null,
   "id": "1e2dbd1b",
   "metadata": {},
   "outputs": [],
   "source": []
  },
  {
   "cell_type": "code",
   "execution_count": null,
   "id": "b85b6eb7",
   "metadata": {},
   "outputs": [],
   "source": []
  },
  {
   "cell_type": "code",
   "execution_count": null,
   "id": "852a3d76",
   "metadata": {},
   "outputs": [],
   "source": []
  }
 ],
 "metadata": {
  "kernelspec": {
   "display_name": "Python 3",
   "language": "python",
   "name": "python3"
  },
  "language_info": {
   "codemirror_mode": {
    "name": "ipython",
    "version": 3
   },
   "file_extension": ".py",
   "mimetype": "text/x-python",
   "name": "python",
   "nbconvert_exporter": "python",
   "pygments_lexer": "ipython3",
   "version": "3.6.13"
  }
 },
 "nbformat": 4,
 "nbformat_minor": 5
}
